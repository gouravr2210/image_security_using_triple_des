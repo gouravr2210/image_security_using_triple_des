{
  "nbformat": 4,
  "nbformat_minor": 0,
  "metadata": {
    "colab": {
      "provenance": []
    },
    "kernelspec": {
      "name": "python3",
      "display_name": "Python 3"
    },
    "language_info": {
      "name": "python"
    }
  },
  "cells": [
    {
      "cell_type": "code",
      "execution_count": null,
      "metadata": {
        "colab": {
          "base_uri": "https://localhost:8080/"
        },
        "id": "0XvJ4cInM0Ls",
        "outputId": "6bb2e25a-71c8-4488-8fe8-a15377f33575"
      },
      "outputs": [
        {
          "output_type": "stream",
          "name": "stdout",
          "text": [
            "Requirement already satisfied: pycryptodome in /usr/local/lib/python3.10/dist-packages (3.20.0)\n"
          ]
        }
      ],
      "source": [
        "#install necessary packages\n",
        "!pip install pycryptodome"
      ]
    },
    {
      "cell_type": "code",
      "source": [
        "#import required libraries\n",
        "from Crypto.Cipher import DES\n",
        "from Crypto.Hash import SHA256\n",
        "import turtle\n",
        "import requests\n",
        "from getpass import getpass\n",
        "from Crypto.Protocol.KDF import PBKDF2"
      ],
      "metadata": {
        "id": "47fQ5mvFM0-q"
      },
      "execution_count": null,
      "outputs": []
    },
    {
      "cell_type": "code",
      "source": [
        "#assign values for key_length and salt\n",
        "Key_length=100005\n",
        "salt=\"$ez*&214097GDAKACNASC;LSOSSBAdjskasnmosuf!@#$^()_adsa\""
      ],
      "metadata": {
        "id": "YJ3gXGM31tJY"
      },
      "execution_count": null,
      "outputs": []
    },
    {
      "cell_type": "code",
      "source": [
        "#Encrypting function\n",
        "def encryption(path):\n",
        "\t#Opening the image file\n",
        "\ttry:\n",
        "\t\twith open(path, 'rb') as imagefile:\n",
        "\t\t\timage=imagefile.read()\n",
        "\n",
        "\t\t#Padding\n",
        "\t\twhile len(image)%8!=0:\n",
        "\t\t\timage+=b\" \"\n",
        "\texcept:\n",
        "\t\tprint(\"Error loading the file, make sure file is in same directory, spelled correctly and non-corrupted\")\n",
        "\t\texit()\n",
        "\n",
        "\t#hashing original image in SHA256\n",
        "\thash_of_original=SHA256.new(data=image)\n",
        "\n",
        "\n",
        "\t#Inputting Keys\n",
        "\tkey_encryption=getpass(prompt=\"Enter minimum 8 character long password:\")\n",
        "\t#Checking if key is of invalid length\n",
        "\twhile len(key_encryption)<8:\n",
        "\t\tkey_encryption=getpass(prompt=\"Invalid password! Password must be atleast 8 characters\")\n",
        "\n",
        "\tkey_encryption_confirm=getpass(prompt=\"Enter password again:\")\n",
        "\twhile key_encryption!=key_encryption_confirm:\n",
        "\t\tprint(\"Key does not match.Try again!\")\n",
        "\t\tkey_encryption=getpass(prompt=\"Enter 8 character long password:\")\n",
        "\n",
        "\n",
        "\t#Salting and hashing password\n",
        "\tkey_encryption=PBKDF2(key_encryption,salt,48,Key_length)\n",
        "\n",
        "\n",
        "\t#Encrypting using triple 3 key DES\n",
        "\tprint(\"Encrypting...\\n\")\n",
        "\ttry:\n",
        "\n",
        "\t\tcipher1=DES.new(key_encryption[0:8],DES.MODE_CBC,key_encryption[24:32])\n",
        "\t\tciphertext1=cipher1.encrypt(image)\n",
        "\t\tcipher2=DES.new(key_encryption[8:16],DES.MODE_CBC,key_encryption[32:40])\n",
        "\t\tciphertext2=cipher2.decrypt(ciphertext1)\n",
        "\t\tcipher3=DES.new(key_encryption[16:24],DES.MODE_CBC,key_encryption[40:48])\n",
        "\t\tciphertext3=cipher3.encrypt(ciphertext2)\n",
        "\n",
        "\t\tprint(\"\\n------ENCRYPTION SUCCESSFUL-------\")\n",
        "\texcept:\n",
        "\t\tprint(\"\tEncryption failed...\")\n",
        "\t\texit()\n",
        "\n",
        "\t#Adding hash at end of encrypted bytes\n",
        "\tciphertext3+=hash_of_original.digest()\n",
        "\n",
        "\n",
        "\t#Saving the file encrypted\n",
        "\ttry:\n",
        "\t\tdpath=\"encrypted_\"+path\n",
        "\t\twith open(dpath, 'wb') as image_file:\n",
        "\t\t\t\timage_file.write(ciphertext3)\n",
        "\t\tprint(\"Encrypted Image saved successfully as filename \"+dpath)\n",
        "\n",
        "\n",
        "\texcept:\n",
        "\t\ttemp_path=input(\"Saving file failed!. Enter alternate name without format to save the encrypted file. Check memory once\")\n",
        "\t\ttry:\n",
        "\t\t\tdpath=temp_path+path\n",
        "\t\t\tdpath=\"encrypted_\"+path\n",
        "\t\t\twith open(dpath, 'wb') as image_file:\n",
        "\t\t\t\t\timage_file.write(ciphertext3)\n",
        "\t\t\tprint(\"Encrypted Image Saved successfully as filename in the same directory \"+dpath)\n",
        "\t\t\texit()\n",
        "\t\texcept:\n",
        "\t\t\tprint(\"\tFailed....Exiting...\")\n",
        "\t\t\texit()"
      ],
      "metadata": {
        "id": "XdWASupI0mXP"
      },
      "execution_count": null,
      "outputs": []
    },
    {
      "cell_type": "code",
      "source": [
        "#decrypting function\n",
        "def decryption(encrypted_image_path):\n",
        "\n",
        "\ttry:\n",
        "\t\twith open(encrypted_image_path,'rb') as encrypted_file:\n",
        "\t\t\tencrypted_data_with_hash=encrypted_file.read()\n",
        "\n",
        "\texcept:\n",
        "\t\tprint(\"\tUnable to read source cipher data. Make sure the file is in same directory...\")\n",
        "\t\texit()\n",
        "\n",
        "\n",
        "\t#Key Authentication\n",
        "\tkey_decryption=getpass(prompt=\"Enter password:\")\n",
        "\n",
        "\n",
        "\t#extracting hash and cipher data without hash\n",
        "\textracted_hash=encrypted_data_with_hash[-32:]\n",
        "\tencrypted_data=encrypted_data_with_hash[:-32]\n",
        "\n",
        "\n",
        "\t#salting and hashing password\n",
        "\tkey_decryption=PBKDF2(key_decryption,salt,48,Key_length)\n",
        "\n",
        "\n",
        "\t#decrypting using triple 3 key DES\n",
        "\tprint(\"\tDecrypting...\")\n",
        "\ttry:\n",
        "\n",
        "\t\tcipher1=DES.new(key_decryption[16:24],DES.MODE_CBC,key_decryption[40:48])\n",
        "\t\tplaintext1=cipher1.decrypt(encrypted_data)\n",
        "\t\tcipher2=DES.new(key_decryption[8:16],DES.MODE_CBC,key_decryption[32:40])\n",
        "\t\tplaintext2=cipher2.encrypt(plaintext1)\n",
        "\t\tcipher3=DES.new(key_decryption[0:8],DES.MODE_CBC,key_decryption[24:32])\n",
        "\t\tplaintext3=cipher3.decrypt(plaintext2)\n",
        "\n",
        "\n",
        "\texcept:\n",
        "\t\tprint(\"Decryption failed...\")\n",
        "\n",
        "\t#hashing decrypted plain text\n",
        "\thash_of_decrypted=SHA256.new(data=plaintext3)\n",
        "\n",
        "\n",
        "\t#matching hashes\n",
        "\tif hash_of_decrypted.digest()==extracted_hash:\n",
        "\t\tprint(\"Password Correct !!!\")\n",
        "\t\tprint(\"\t------DECRYPTION SUCCESSFUL------\")\n",
        "\telse:\n",
        "\t\tprint(\"Incorrect Password!!!!!\")\n",
        "\t\texit()\n",
        "\n",
        "\n",
        "\n",
        "\t#saving the decrypted file\n",
        "\ttry:\n",
        "\t\tepath=encrypted_image_path\n",
        "\t\tif epath[:10]==\"encrypted_\":\n",
        "\t\t\tepath=epath[10:]\n",
        "\t\tepath=\"decrypted_\"+epath\n",
        "\t\twith open(epath, 'wb') as image_file:\n",
        "\t\t\timage_file.write(plaintext3)\n",
        "\t\tprint(\"\tImage saved successully with name \" + epath)\n",
        "\texcept:\n",
        "\t\ttemp_path=input(\"Saving file failed!. Enter alternate name without format to save the decrypted file. If it is still failing then check system memory\")\n",
        "\t\ttry:\n",
        "\t\t\tepath=temp_path+encrypted_image_path\n",
        "\t\t\twith open(epath, 'wb') as image_file:\n",
        "\t\t\t\timage_file.write(plaintext3)\n",
        "\t\t\tprint(\"\tImage saved successully with name \" + epath)\n",
        "\t\t\tprint(\"\tNote: If the decrypted image is appearing to be corrupted then password may be wrong or it may be file format error\")\n",
        "\t\texcept:\n",
        "\t\t\tprint(\"Failed! Exiting...\")\n",
        "\t\t\texit()"
      ],
      "metadata": {
        "id": "tBPlzZem0mkn"
      },
      "execution_count": null,
      "outputs": []
    },
    {
      "cell_type": "code",
      "source": [
        "\n",
        "try:\n",
        "\tchoice=int(input(\"\t\t\\nChoose 1 for Encryption || 2 for Decryption: \\n\"))\n",
        "\twhile choice!=1 and choice!=2:\n",
        "\t\tchoice=int(input(\"\t\t      Invalid Choice! Try Again:\\n\"))\n",
        "except:\n",
        "\tprint(\"Error, please provide valid Input\")\n",
        "\texit()\n",
        "\n",
        "\n",
        "\n",
        "if choice==1:\n",
        "\tpath=input(\"Enter image's name to be encypted:\\n\")\n",
        "\tencryption(path)\n",
        "\n",
        "\n",
        "\n",
        "else:\n",
        "\tencrypted_image_path=input(\"Enter image's name to decrypted:\\n\")\n",
        "\tdecryption(encrypted_image_path)"
      ],
      "metadata": {
        "colab": {
          "base_uri": "https://localhost:8080/"
        },
        "id": "1ThLrITi0mtF",
        "outputId": "8ff72cb7-07d8-4c13-bdc9-0e1a8bee866a"
      },
      "execution_count": null,
      "outputs": [
        {
          "output_type": "stream",
          "name": "stdout",
          "text": [
            "\t\t\n",
            "Choose 1 for Encryption || 2 for Decryption: \n",
            "2\n",
            "Enter image's name to decrypted:\n",
            "encrypted_sample1.jpg\n",
            "Enter password:··········\n",
            "\tDecrypting...\n",
            "Password Correct !!!\n",
            "\t------DECRYPTION SUCCESSFUL------\n",
            "\tImage saved successully with name decrypted_sample1.jpg\n"
          ]
        }
      ]
    },
    {
      "cell_type": "code",
      "source": [],
      "metadata": {
        "id": "hPpK08ZX4Ums"
      },
      "execution_count": null,
      "outputs": []
    }
  ]
}